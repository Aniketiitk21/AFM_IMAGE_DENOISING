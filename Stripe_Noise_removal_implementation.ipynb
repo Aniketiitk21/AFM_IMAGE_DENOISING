{
  "nbformat": 4,
  "nbformat_minor": 0,
  "metadata": {
    "colab": {
      "provenance": [],
      "gpuType": "T4"
    },
    "kernelspec": {
      "name": "python3",
      "display_name": "Python 3"
    },
    "language_info": {
      "name": "python"
    },
    "accelerator": "GPU"
  },
  "cells": [
    {
      "cell_type": "code",
      "execution_count": null,
      "metadata": {
        "colab": {
          "base_uri": "https://localhost:8080/"
        },
        "id": "eIPL730zKHQo",
        "outputId": "e0f64d21-5014-4e7d-f0fb-f1e11b40453e"
      },
      "outputs": [
        {
          "output_type": "stream",
          "name": "stdout",
          "text": [
            "Cloning into 'Wavelet-Deep-Neural-Network-for-Stripe-Noise-Removal'...\n",
            "remote: Enumerating objects: 65, done.\u001b[K\n",
            "remote: Counting objects: 100% (24/24), done.\u001b[K\n",
            "remote: Compressing objects: 100% (24/24), done.\u001b[K\n",
            "remote: Total 65 (delta 5), reused 1 (delta 0), pack-reused 41\u001b[K\n",
            "Receiving objects: 100% (65/65), 17.47 MiB | 26.86 MiB/s, done.\n",
            "Resolving deltas: 100% (13/13), done.\n"
          ]
        }
      ],
      "source": [
        "!git clone https://github.com/jtguan/Wavelet-Deep-Neural-Network-for-Stripe-Noise-Removal.git"
      ]
    },
    {
      "cell_type": "code",
      "source": [
        "%cd Wavelet-Deep-Neural-Network-for-Stripe-Noise-Removal"
      ],
      "metadata": {
        "colab": {
          "base_uri": "https://localhost:8080/"
        },
        "id": "ufvDBKF8KQem",
        "outputId": "7bb0c018-00e0-4af0-abcb-153e8ea37044"
      },
      "execution_count": null,
      "outputs": [
        {
          "output_type": "stream",
          "name": "stdout",
          "text": [
            "/content/Wavelet-Deep-Neural-Network-for-Stripe-Noise-Removal\n"
          ]
        }
      ]
    },
    {
      "cell_type": "code",
      "source": [
        "!pip install PyWavelets"
      ],
      "metadata": {
        "colab": {
          "base_uri": "https://localhost:8080/"
        },
        "id": "isQW18-BKhu4",
        "outputId": "73731f05-90ab-4d94-ee74-cde5549b4378"
      },
      "execution_count": null,
      "outputs": [
        {
          "output_type": "stream",
          "name": "stdout",
          "text": [
            "Requirement already satisfied: PyWavelets in /usr/local/lib/python3.10/dist-packages (1.5.0)\n",
            "Requirement already satisfied: numpy<2.0,>=1.22.4 in /usr/local/lib/python3.10/dist-packages (from PyWavelets) (1.25.2)\n"
          ]
        }
      ]
    },
    {
      "cell_type": "code",
      "source": [],
      "metadata": {
        "id": "p3vVxiqRKlR9"
      },
      "execution_count": null,
      "outputs": []
    }
  ]
}